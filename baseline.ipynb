{
 "cells": [
  {
   "cell_type": "code",
   "execution_count": 1,
   "id": "a6e58a8a",
   "metadata": {
    "_cell_guid": "b1076dfc-b9ad-4769-8c92-a6c4dae69d19",
    "_uuid": "8f2839f25d086af736a60e9eeb907d3b93b6e0e5",
    "execution": {
     "iopub.execute_input": "2023-12-17T13:36:27.547848Z",
     "iopub.status.busy": "2023-12-17T13:36:27.547004Z",
     "iopub.status.idle": "2023-12-17T13:36:38.864063Z",
     "shell.execute_reply": "2023-12-17T13:36:38.863182Z"
    },
    "papermill": {
     "duration": 11.325672,
     "end_time": "2023-12-17T13:36:38.866357",
     "exception": false,
     "start_time": "2023-12-17T13:36:27.540685",
     "status": "completed"
    },
    "tags": []
   },
   "outputs": [
    {
     "name": "stderr",
     "output_type": "stream",
     "text": [
      "/opt/conda/lib/python3.10/site-packages/scipy/__init__.py:146: UserWarning: A NumPy version >=1.16.5 and <1.23.0 is required for this version of SciPy (detected version 1.24.3\n",
      "  warnings.warn(f\"A NumPy version >={np_minversion} and <{np_maxversion}\"\n"
     ]
    }
   ],
   "source": [
    "import os \n",
    "os.environ[\"KERAS_BACKEND\"] = \"tensorflow\"\n",
    "\n",
    "import numpy as np \n",
    "import tensorflow as tf\n",
    "import tensorflow as tf \n",
    "from tensorflow.keras.layers import (Input, \n",
    "                                     GlobalAveragePooling2D, \n",
    "                                     Dense, \n",
    "                                     BatchNormalization, \n",
    "#                                      InstanceNormalization\n",
    "                                    )\n",
    "\n",
    "from tensorflow.keras.applications.efficientnet import EfficientNetB0 as EfficientNet\n",
    "\n",
    "import matplotlib.pyplot as plt"
   ]
  },
  {
   "cell_type": "code",
   "execution_count": 2,
   "id": "feee812e",
   "metadata": {
    "execution": {
     "iopub.execute_input": "2023-12-17T13:36:38.877600Z",
     "iopub.status.busy": "2023-12-17T13:36:38.876997Z",
     "iopub.status.idle": "2023-12-17T13:36:38.881616Z",
     "shell.execute_reply": "2023-12-17T13:36:38.880886Z"
    },
    "papermill": {
     "duration": 0.01203,
     "end_time": "2023-12-17T13:36:38.883500",
     "exception": false,
     "start_time": "2023-12-17T13:36:38.871470",
     "status": "completed"
    },
    "tags": []
   },
   "outputs": [],
   "source": [
    "TRAIN_PATH = '/kaggle/input/arabic-letters-classification/Final_Arabic_Alpha_dataset/Final_Arabic_Alpha_dataset/train'\n",
    "IMAGE_SHAPE = [100, 100, 3]\n",
    "NUM_CLASSES = 65\n",
    "BATCH_SIZE = 512"
   ]
  },
  {
   "cell_type": "markdown",
   "id": "684317aa",
   "metadata": {
    "papermill": {
     "duration": 0.004455,
     "end_time": "2023-12-17T13:36:38.892587",
     "exception": false,
     "start_time": "2023-12-17T13:36:38.888132",
     "status": "completed"
    },
    "tags": []
   },
   "source": [
    "# Load Data "
   ]
  },
  {
   "cell_type": "code",
   "execution_count": 3,
   "id": "296a21f6",
   "metadata": {
    "execution": {
     "iopub.execute_input": "2023-12-17T13:36:38.902864Z",
     "iopub.status.busy": "2023-12-17T13:36:38.902592Z",
     "iopub.status.idle": "2023-12-17T13:36:38.908435Z",
     "shell.execute_reply": "2023-12-17T13:36:38.907649Z"
    },
    "papermill": {
     "duration": 0.01311,
     "end_time": "2023-12-17T13:36:38.910240",
     "exception": false,
     "start_time": "2023-12-17T13:36:38.897130",
     "status": "completed"
    },
    "tags": []
   },
   "outputs": [],
   "source": [
    "def load_filepaths_labels(folder_path):\n",
    "    file_paths = []\n",
    "    labels = []\n",
    "\n",
    "    # List all directories (labels) in the given folder\n",
    "    for label in os.listdir(folder_path):\n",
    "        label_path = os.path.join(folder_path, label)\n",
    "\n",
    "        # Check if the item in the directory is a subdirectory\n",
    "        if os.path.isdir(label_path):\n",
    "            # List all files in the subdirectory\n",
    "            files = os.listdir(label_path)\n",
    "            \n",
    "            # Create file paths and corresponding labels\n",
    "            file_paths.extend([os.path.join(label_path, file) for file in files])\n",
    "            labels.extend([int(label)] * len(files))\n",
    "\n",
    "    return file_paths, labels"
   ]
  },
  {
   "cell_type": "code",
   "execution_count": 4,
   "id": "4638d533",
   "metadata": {
    "execution": {
     "iopub.execute_input": "2023-12-17T13:36:38.920382Z",
     "iopub.status.busy": "2023-12-17T13:36:38.920122Z",
     "iopub.status.idle": "2023-12-17T13:36:49.216755Z",
     "shell.execute_reply": "2023-12-17T13:36:49.215875Z"
    },
    "papermill": {
     "duration": 10.304039,
     "end_time": "2023-12-17T13:36:49.218836",
     "exception": false,
     "start_time": "2023-12-17T13:36:38.914797",
     "status": "completed"
    },
    "tags": []
   },
   "outputs": [
    {
     "data": {
      "text/plain": [
       "('/kaggle/input/arabic-letters-classification/Final_Arabic_Alpha_dataset/Final_Arabic_Alpha_dataset/train/32/user009_lam_end_010.png',\n",
       " 32)"
      ]
     },
     "execution_count": 4,
     "metadata": {},
     "output_type": "execute_result"
    }
   ],
   "source": [
    "fileps, labels = load_filepaths_labels(TRAIN_PATH)\n",
    "fileps.pop(13107), labels.pop(13107)"
   ]
  },
  {
   "cell_type": "markdown",
   "id": "947004a7",
   "metadata": {
    "papermill": {
     "duration": 0.004592,
     "end_time": "2023-12-17T13:36:49.228469",
     "exception": false,
     "start_time": "2023-12-17T13:36:49.223877",
     "status": "completed"
    },
    "tags": []
   },
   "source": [
    "# Preprocess Data"
   ]
  },
  {
   "cell_type": "code",
   "execution_count": 5,
   "id": "5973c46c",
   "metadata": {
    "execution": {
     "iopub.execute_input": "2023-12-17T13:36:49.239652Z",
     "iopub.status.busy": "2023-12-17T13:36:49.239041Z",
     "iopub.status.idle": "2023-12-17T13:36:49.254125Z",
     "shell.execute_reply": "2023-12-17T13:36:49.253447Z"
    },
    "papermill": {
     "duration": 0.022663,
     "end_time": "2023-12-17T13:36:49.255946",
     "exception": false,
     "start_time": "2023-12-17T13:36:49.233283",
     "status": "completed"
    },
    "tags": []
   },
   "outputs": [],
   "source": [
    "def min_max(tensor, t):\n",
    "    # Find the indices where the values are greater than t\n",
    "        \n",
    "    indices = tf.where(tensor > t)\n",
    "#         print(indices)\n",
    "    # Find the minimum and maximum indices\n",
    "    min_ = indices[0][0]\n",
    "    max_ = indices[-1][0]\n",
    "    return min_, max_\n",
    "\n",
    "def cut_image(image):\n",
    "    # Get the dimensions of the image\n",
    "    \n",
    "    t = 0.3\n",
    "    pos_image = tf.where(image < 0, -1 * image, image)\n",
    "    pos_image = tf.where(pos_image < t, 0.0, pos_image)            \n",
    "    \n",
    "    x_min, x_max = min_max(tf.reduce_sum(pos_image, axis=0), 1)\n",
    "    y_min, y_max = min_max(tf.reduce_sum(pos_image, axis=1), 1)\n",
    "    # Find the first and last values greater than 0.1 along the x-axis\n",
    "\n",
    "    # Crop the image using the computed indices\n",
    "    pos_image = pos_image[y_min:y_max, :, :]\n",
    "    pos_image = pos_image[:, x_min:x_max, :]\n",
    "\n",
    "    return pos_image, (x_min, x_max)\n",
    "    \n",
    "def normalize_image(image):\n",
    "    # Assuming 'image' is a TensorFlow tensor\n",
    "    min_val = tf.reduce_min(image)\n",
    "    max_val = tf.reduce_max(image)\n",
    "    \n",
    "    # Normalize the image to the range [0, 1]\n",
    "    normalized_image = (image - min_val) / (max_val - min_val)\n",
    "\n",
    "    return normalized_image\n",
    "\n",
    "def _1(image): \n",
    "    return 1- image\n",
    "    \n",
    "def load_decode_image(filepath, label, cut_image_ = False):\n",
    "    # One-hot encoding the label\n",
    "    label = tf.one_hot(label, depth=NUM_CLASSES)\n",
    "    label = tf.reshape(label, (65, 1))\n",
    "\n",
    "    # Read and decode the image\n",
    "    image = tf.io.read_file(filepath)\n",
    "    image = tf.image.decode_image(image, channels=1)\n",
    "        \n",
    "    image = tf.image.convert_image_dtype(image, tf.float32)\n",
    "    image = normalize_image(image)\n",
    "    image = _1(image)\n",
    "    \n",
    "    if cut_image_: \n",
    "        image, x_minmax = cut_image(image)\n",
    "    image = tf.image.resize_with_pad(image, target_height=IMAGE_SHAPE[0], target_width=IMAGE_SHAPE[1])\n",
    "\n",
    "    image = tf.image.grayscale_to_rgb(image)\n",
    "    return image, label\n",
    "\n",
    "def build_dataset(filepaths, labels, batch_size = 8, cut_image_ = False, shuffle = True, prefetch = True): \n",
    "    \n",
    "    dataset = tf.data.Dataset.from_tensor_slices((filepaths, labels))\n",
    "    \n",
    "    dataset = dataset.map(lambda x, y: load_decode_image(x, y, cut_image_ = cut_image_))\n",
    "    dataset = dataset.batch(batch_size)\n",
    "    \n",
    "    if shuffle: \n",
    "        dataset = dataset.shuffle(3)\n",
    "        \n",
    "    if prefetch: \n",
    "        dataset = dataset.prefetch(tf.data.AUTOTUNE)\n",
    "        \n",
    "    return dataset "
   ]
  },
  {
   "cell_type": "code",
   "execution_count": 6,
   "id": "fd60a4cb",
   "metadata": {
    "execution": {
     "iopub.execute_input": "2023-12-17T13:36:49.266427Z",
     "iopub.status.busy": "2023-12-17T13:36:49.266168Z",
     "iopub.status.idle": "2023-12-17T13:36:52.992211Z",
     "shell.execute_reply": "2023-12-17T13:36:52.991420Z"
    },
    "papermill": {
     "duration": 3.733916,
     "end_time": "2023-12-17T13:36:52.994593",
     "exception": false,
     "start_time": "2023-12-17T13:36:49.260677",
     "status": "completed"
    },
    "tags": []
   },
   "outputs": [],
   "source": [
    "dataset_with_cut = build_dataset(fileps, labels, batch_size = 512, cut_image_ = True, shuffle = False)\n",
    "dataset_without_cut = build_dataset(fileps, labels, batch_size = 512, shuffle=False)"
   ]
  },
  {
   "cell_type": "code",
   "execution_count": 7,
   "id": "cb63d4d4",
   "metadata": {
    "execution": {
     "iopub.execute_input": "2023-12-17T13:36:53.005781Z",
     "iopub.status.busy": "2023-12-17T13:36:53.005487Z",
     "iopub.status.idle": "2023-12-17T13:36:54.655702Z",
     "shell.execute_reply": "2023-12-17T13:36:54.654844Z"
    },
    "papermill": {
     "duration": 1.658063,
     "end_time": "2023-12-17T13:36:54.657779",
     "exception": false,
     "start_time": "2023-12-17T13:36:52.999716",
     "status": "completed"
    },
    "tags": []
   },
   "outputs": [
    {
     "data": {
      "image/png": "[encoded data removed]",
      "text/plain": [
       "<Figure size 640x480 with 1 Axes>"
      ]
     },
     "metadata": {},
     "output_type": "display_data"
    },
    {
     "data": {
      "image/png": "[encoded data removed]",
      "text/plain": [
       "<Figure size 640x480 with 1 Axes>"
      ]
     },
     "metadata": {},
     "output_type": "display_data"
    }
   ],
   "source": [
    "image = next(iter(dataset_with_cut))[0][10]\n",
    "image_ = next(iter(dataset_without_cut))[0][10]\n",
    "\n",
    "plt.imshow(image_.numpy())\n",
    "plt.show()\n",
    "\n",
    "plt.imshow(image.numpy())\n",
    "plt.show()"
   ]
  },
  {
   "cell_type": "code",
   "execution_count": 8,
   "id": "61fe2c0d",
   "metadata": {
    "execution": {
     "iopub.execute_input": "2023-12-17T13:36:54.670215Z",
     "iopub.status.busy": "2023-12-17T13:36:54.669926Z",
     "iopub.status.idle": "2023-12-17T13:36:55.127344Z",
     "shell.execute_reply": "2023-12-17T13:36:55.126540Z"
    },
    "papermill": {
     "duration": 0.466327,
     "end_time": "2023-12-17T13:36:55.129667",
     "exception": false,
     "start_time": "2023-12-17T13:36:54.663340",
     "status": "completed"
    },
    "tags": []
   },
   "outputs": [],
   "source": [
    "# clear memory\n",
    "del dataset_with_cut, dataset_without_cut\n",
    "# build finnal dataset \n",
    "dataset = build_dataset(fileps, labels, batch_size = 64, cut_image_ = True)"
   ]
  },
  {
   "cell_type": "markdown",
   "id": "d3d1da96",
   "metadata": {
    "papermill": {
     "duration": 0.005286,
     "end_time": "2023-12-17T13:36:55.140519",
     "exception": false,
     "start_time": "2023-12-17T13:36:55.135233",
     "status": "completed"
    },
    "tags": []
   },
   "source": [
    "# Define Model"
   ]
  },
  {
   "cell_type": "code",
   "execution_count": 9,
   "id": "98a4ed05",
   "metadata": {
    "execution": {
     "iopub.execute_input": "2023-12-17T13:36:55.152065Z",
     "iopub.status.busy": "2023-12-17T13:36:55.151793Z",
     "iopub.status.idle": "2023-12-17T13:36:59.723798Z",
     "shell.execute_reply": "2023-12-17T13:36:59.722889Z"
    },
    "papermill": {
     "duration": 4.580119,
     "end_time": "2023-12-17T13:36:59.725788",
     "exception": false,
     "start_time": "2023-12-17T13:36:55.145669",
     "status": "completed"
    },
    "tags": []
   },
   "outputs": [
    {
     "name": "stdout",
     "output_type": "stream",
     "text": [
      "Downloading data from https://storage.googleapis.com/keras-applications/efficientnetb0_notop.h5\n",
      "16705208/16705208 [==============================] - 1s 0us/step\n",
      "Model: \"model\"\n",
      "_________________________________________________________________\n",
      " Layer (type)                Output Shape              Param #   \n",
      "=================================================================\n",
      " input_2 (InputLayer)        [(None, 100, 100, 3)]     0         \n",
      "                                                                 \n",
      " efficientnetb0 (Functional  (None, 4, 4, 1280)        4049571   \n",
      " )                                                               \n",
      "                                                                 \n",
      " global_average_pooling2d (  (None, 1280)              0         \n",
      " GlobalAveragePooling2D)                                         \n",
      "                                                                 \n",
      " dense (Dense)               (None, 65)                83265     \n",
      "                                                                 \n",
      "=================================================================\n",
      "Total params: 4132836 (15.77 MB)\n",
      "Trainable params: 83265 (325.25 KB)\n",
      "Non-trainable params: 4049571 (15.45 MB)\n",
      "_________________________________________________________________\n"
     ]
    }
   ],
   "source": [
    "enet = EfficientNet(\n",
    "    include_top=False,\n",
    "    weights='imagenet',\n",
    "    input_shape=IMAGE_SHAPE,\n",
    "    classifier_activation='softmax'\n",
    ")\n",
    "enet.trainable = False\n",
    "\n",
    "def build_model(input_shape, n_labels): \n",
    "    inputs = Input(shape = input_shape)\n",
    "    \n",
    "    x = enet(inputs)\n",
    "    x = GlobalAveragePooling2D()(x)\n",
    "    outputs = Dense(n_labels, activation='softmax')(x)\n",
    "    return tf.keras.Model(inputs, outputs)\n",
    "    \n",
    "model = build_model(IMAGE_SHAPE, NUM_CLASSES)\n",
    "model.summary()"
   ]
  },
  {
   "cell_type": "code",
   "execution_count": 10,
   "id": "6f9b7efa",
   "metadata": {
    "execution": {
     "iopub.execute_input": "2023-12-17T13:36:59.744526Z",
     "iopub.status.busy": "2023-12-17T13:36:59.744212Z",
     "iopub.status.idle": "2023-12-17T13:36:59.763298Z",
     "shell.execute_reply": "2023-12-17T13:36:59.762584Z"
    },
    "papermill": {
     "duration": 0.030372,
     "end_time": "2023-12-17T13:36:59.765112",
     "exception": false,
     "start_time": "2023-12-17T13:36:59.734740",
     "status": "completed"
    },
    "tags": []
   },
   "outputs": [],
   "source": [
    "model.compile(optimizer =tf.keras.optimizers.AdamW(lr=1e-5) , \n",
    "              loss = 'binary_crossentropy')"
   ]
  },
  {
   "cell_type": "markdown",
   "id": "e9dd6394",
   "metadata": {
    "papermill": {
     "duration": 0.008364,
     "end_time": "2023-12-17T13:36:59.782006",
     "exception": false,
     "start_time": "2023-12-17T13:36:59.773642",
     "status": "completed"
    },
    "tags": []
   },
   "source": [
    "# Train Model"
   ]
  },
  {
   "cell_type": "code",
   "execution_count": 11,
   "id": "5a763530",
   "metadata": {
    "execution": {
     "iopub.execute_input": "2023-12-17T13:36:59.799839Z",
     "iopub.status.busy": "2023-12-17T13:36:59.799569Z",
     "iopub.status.idle": "2023-12-17T13:55:57.111362Z",
     "shell.execute_reply": "2023-12-17T13:55:57.110525Z"
    },
    "papermill": {
     "duration": 1137.323093,
     "end_time": "2023-12-17T13:55:57.113457",
     "exception": false,
     "start_time": "2023-12-17T13:36:59.790364",
     "status": "completed"
    },
    "tags": []
   },
   "outputs": [
    {
     "name": "stdout",
     "output_type": "stream",
     "text": [
      "Epoch 1/50\n"
     ]
    },
    {
     "name": "stderr",
     "output_type": "stream",
     "text": [
      "2023-12-17 13:37:06.270655: E tensorflow/core/grappler/optimizers/meta_optimizer.cc:954] layout failed: INVALID_ARGUMENT: Size of values 0 does not match size of permutation 4 @ fanin shape inmodel/efficientnetb0/block2b_drop/dropout/SelectV2-2-TransposeNHWCToNCHW-LayoutOptimizer\n"
     ]
    },
    {
     "name": "stdout",
     "output_type": "stream",
     "text": [
      "665/665 [==============================] - 72s 90ms/step - loss: 0.0972\n",
      "Epoch 2/50\n",
      "665/665 [==============================] - 21s 32ms/step - loss: 0.0992\n",
      "Epoch 3/50\n",
      "665/665 [==============================] - 21s 31ms/step - loss: 0.1003\n",
      "Epoch 4/50\n",
      "665/665 [==============================] - 21s 32ms/step - loss: 0.1012\n",
      "Epoch 5/50\n",
      "665/665 [==============================] - 21s 31ms/step - loss: 0.1016\n",
      "Epoch 6/50\n",
      "665/665 [==============================] - 20s 30ms/step - loss: 0.1027\n",
      "Epoch 7/50\n",
      "665/665 [==============================] - 21s 32ms/step - loss: 0.1026\n",
      "Epoch 8/50\n",
      "665/665 [==============================] - 21s 31ms/step - loss: 0.1012\n",
      "Epoch 9/50\n",
      "665/665 [==============================] - 20s 30ms/step - loss: 0.1017\n",
      "Epoch 10/50\n",
      "665/665 [==============================] - 21s 31ms/step - loss: 0.1014\n",
      "Epoch 11/50\n",
      "665/665 [==============================] - 20s 31ms/step - loss: 0.1018\n",
      "Epoch 12/50\n",
      "665/665 [==============================] - 20s 30ms/step - loss: 0.1023\n",
      "Epoch 13/50\n",
      "665/665 [==============================] - 21s 31ms/step - loss: 0.1011\n",
      "Epoch 14/50\n",
      "665/665 [==============================] - 21s 31ms/step - loss: 0.1009\n",
      "Epoch 15/50\n",
      "665/665 [==============================] - 21s 31ms/step - loss: 0.1015\n",
      "Epoch 16/50\n",
      "665/665 [==============================] - 21s 32ms/step - loss: 0.1021\n",
      "Epoch 17/50\n",
      "665/665 [==============================] - 21s 32ms/step - loss: 0.1016\n",
      "Epoch 18/50\n",
      "665/665 [==============================] - 21s 31ms/step - loss: 0.1009\n",
      "Epoch 19/50\n",
      "665/665 [==============================] - 21s 31ms/step - loss: 0.1015\n",
      "Epoch 20/50\n",
      "665/665 [==============================] - 21s 31ms/step - loss: 0.1021\n",
      "Epoch 21/50\n",
      "665/665 [==============================] - 21s 31ms/step - loss: 0.1008\n",
      "Epoch 22/50\n",
      "665/665 [==============================] - 21s 32ms/step - loss: 0.1007\n",
      "Epoch 23/50\n",
      "665/665 [==============================] - 21s 31ms/step - loss: 0.1010\n",
      "Epoch 24/50\n",
      "665/665 [==============================] - 21s 32ms/step - loss: 0.1012\n",
      "Epoch 25/50\n",
      "665/665 [==============================] - 20s 31ms/step - loss: 0.1005\n",
      "Epoch 26/50\n",
      "665/665 [==============================] - 21s 31ms/step - loss: 0.1009\n",
      "Epoch 27/50\n",
      "665/665 [==============================] - 21s 32ms/step - loss: 0.1004\n",
      "Epoch 28/50\n",
      "665/665 [==============================] - 21s 32ms/step - loss: 0.1018\n",
      "Epoch 29/50\n",
      "665/665 [==============================] - 21s 32ms/step - loss: 0.1024\n",
      "Epoch 30/50\n",
      "665/665 [==============================] - 21s 31ms/step - loss: 0.1022\n",
      "Epoch 31/50\n",
      "665/665 [==============================] - 21s 31ms/step - loss: 0.1018\n",
      "Epoch 32/50\n",
      "665/665 [==============================] - 21s 32ms/step - loss: 0.1013\n",
      "Epoch 33/50\n",
      "665/665 [==============================] - 21s 32ms/step - loss: 0.1010\n",
      "Epoch 34/50\n",
      "665/665 [==============================] - 21s 32ms/step - loss: 0.1021\n",
      "Epoch 35/50\n",
      "665/665 [==============================] - 21s 32ms/step - loss: 0.1021\n",
      "Epoch 36/50\n",
      "665/665 [==============================] - 21s 32ms/step - loss: 0.1014\n",
      "Epoch 37/50\n",
      "665/665 [==============================] - 21s 31ms/step - loss: 0.1020\n",
      "Epoch 38/50\n",
      "665/665 [==============================] - 21s 31ms/step - loss: 0.1020\n",
      "Epoch 39/50\n",
      "665/665 [==============================] - 21s 31ms/step - loss: 0.1019\n",
      "Epoch 40/50\n",
      "665/665 [==============================] - 20s 30ms/step - loss: 0.1018\n",
      "Epoch 41/50\n",
      "665/665 [==============================] - 21s 31ms/step - loss: 0.1026\n",
      "Epoch 42/50\n",
      "665/665 [==============================] - 21s 31ms/step - loss: 0.1019\n",
      "Epoch 43/50\n",
      "665/665 [==============================] - 21s 31ms/step - loss: 0.1017\n",
      "Epoch 44/50\n",
      "665/665 [==============================] - 21s 31ms/step - loss: 0.1012\n",
      "Epoch 45/50\n",
      "665/665 [==============================] - 21s 32ms/step - loss: 0.1009\n",
      "Epoch 46/50\n",
      "665/665 [==============================] - 21s 31ms/step - loss: 0.1011\n",
      "Epoch 47/50\n",
      "665/665 [==============================] - 21s 32ms/step - loss: 0.1023\n",
      "Epoch 48/50\n",
      "665/665 [==============================] - 21s 32ms/step - loss: 0.1019\n",
      "Epoch 49/50\n",
      "665/665 [==============================] - 21s 31ms/step - loss: 0.1018\n",
      "Epoch 50/50\n",
      "665/665 [==============================] - 21s 31ms/step - loss: 0.1015\n"
     ]
    },
    {
     "data": {
      "text/plain": [
       "<keras.src.callbacks.History at 0x79318d2edde0>"
      ]
     },
     "execution_count": 11,
     "metadata": {},
     "output_type": "execute_result"
    }
   ],
   "source": [
    "model.fit(dataset, epochs = 50)"
   ]
  },
  {
   "cell_type": "code",
   "execution_count": 12,
   "id": "18c51932",
   "metadata": {
    "execution": {
     "iopub.execute_input": "2023-12-17T13:55:59.888703Z",
     "iopub.status.busy": "2023-12-17T13:55:59.888305Z",
     "iopub.status.idle": "2023-12-17T13:56:26.800265Z",
     "shell.execute_reply": "2023-12-17T13:56:26.799440Z"
    },
    "papermill": {
     "duration": 28.276456,
     "end_time": "2023-12-17T13:56:26.803063",
     "exception": false,
     "start_time": "2023-12-17T13:55:58.526607",
     "status": "completed"
    },
    "tags": []
   },
   "outputs": [],
   "source": [
    "model.save('')"
   ]
  }
 ],
 "metadata": {
  "kaggle": {
   "accelerator": "none",
   "dataSources": [
    {
     "databundleVersionId": 7211464,
     "sourceId": 65471,
     "sourceType": "competition"
    }
   ],
   "dockerImageVersionId": 30626,
   "isGpuEnabled": false,
   "isInternetEnabled": true,
   "language": "python",
   "sourceType": "notebook"
  },
  "kernelspec": {
   "display_name": "Python 3",
   "language": "python",
   "name": "python3"
  },
  "language_info": {
   "codemirror_mode": {
    "name": "ipython",
    "version": 3
   },
   "file_extension": ".py",
   "mimetype": "text/x-python",
   "name": "python",
   "nbconvert_exporter": "python",
   "pygments_lexer": "ipython3",
   "version": "3.10.12"
  },
  "papermill": {
   "default_parameters": {},
   "duration": 1207.341291,
   "end_time": "2023-12-17T13:56:31.697655",
   "environment_variables": {},
   "exception": null,
   "input_path": "__notebook__.ipynb",
   "output_path": "__notebook__.ipynb",
   "parameters": {},
   "start_time": "2023-12-17T13:36:24.356364",
   "version": "2.4.0"
  }
 },
 "nbformat": 4,
 "nbformat_minor": 5
}
