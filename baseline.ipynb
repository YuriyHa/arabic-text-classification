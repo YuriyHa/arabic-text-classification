{
 "cells": [
  {
   "cell_type": "code",
   "execution_count": 1,
   "id": "7c56c538",
   "metadata": {
    "_cell_guid": "b1076dfc-b9ad-4769-8c92-a6c4dae69d19",
    "_uuid": "8f2839f25d086af736a60e9eeb907d3b93b6e0e5",
    "execution": {
     "iopub.execute_input": "2023-12-18T11:30:13.703143Z",
     "iopub.status.busy": "2023-12-18T11:30:13.702741Z",
     "iopub.status.idle": "2023-12-18T11:30:26.004009Z",
     "shell.execute_reply": "2023-12-18T11:30:26.002994Z"
    },
    "papermill": {
     "duration": 12.311417,
     "end_time": "2023-12-18T11:30:26.006488",
     "exception": false,
     "start_time": "2023-12-18T11:30:13.695071",
     "status": "completed"
    },
    "tags": []
   },
   "outputs": [
    {
     "name": "stderr",
     "output_type": "stream",
     "text": [
      "/opt/conda/lib/python3.10/site-packages/scipy/__init__.py:146: UserWarning: A NumPy version >=1.16.5 and <1.23.0 is required for this version of SciPy (detected version 1.24.3\n",
      "  warnings.warn(f\"A NumPy version >={np_minversion} and <{np_maxversion}\"\n"
     ]
    }
   ],
   "source": [
    "import os \n",
    "os.environ[\"KERAS_BACKEND\"] = \"tensorflow\"\n",
    "\n",
    "import numpy as np \n",
    "import tensorflow as tf\n",
    "import tensorflow as tf \n",
    "from tensorflow.keras.layers import (Input, \n",
    "                                     GlobalAveragePooling2D, \n",
    "                                     Dense, \n",
    "                                     BatchNormalization, \n",
    "                                     Dropout,\n",
    "#                                      InstanceNormalization\n",
    "                                    )\n",
    "from tensorflow.keras.callbacks import EarlyStopping, LearningRateScheduler\n",
    "\n",
    "from tensorflow.keras.applications.efficientnet import EfficientNetB7 as EfficientNet\n",
    "\n",
    "import matplotlib.pyplot as plt"
   ]
  },
  {
   "cell_type": "code",
   "execution_count": 2,
   "id": "5b1e9c26",
   "metadata": {
    "execution": {
     "iopub.execute_input": "2023-12-18T11:30:26.019435Z",
     "iopub.status.busy": "2023-12-18T11:30:26.018789Z",
     "iopub.status.idle": "2023-12-18T11:30:26.023750Z",
     "shell.execute_reply": "2023-12-18T11:30:26.022865Z"
    },
    "papermill": {
     "duration": 0.013597,
     "end_time": "2023-12-18T11:30:26.025749",
     "exception": false,
     "start_time": "2023-12-18T11:30:26.012152",
     "status": "completed"
    },
    "tags": []
   },
   "outputs": [],
   "source": [
    "TRAIN_PATH = '/kaggle/input/arabic-letters-classification/Final_Arabic_Alpha_dataset/Final_Arabic_Alpha_dataset/train'\n",
    "IMAGE_SHAPE = [100, 100, 3]\n",
    "NUM_CLASSES = 65\n",
    "BATCH_SIZE = 512"
   ]
  },
  {
   "cell_type": "markdown",
   "id": "9fa9a885",
   "metadata": {
    "papermill": {
     "duration": 0.005189,
     "end_time": "2023-12-18T11:30:26.036545",
     "exception": false,
     "start_time": "2023-12-18T11:30:26.031356",
     "status": "completed"
    },
    "tags": []
   },
   "source": [
    "# Load Data "
   ]
  },
  {
   "cell_type": "code",
   "execution_count": 3,
   "id": "c4aa6cef",
   "metadata": {
    "execution": {
     "iopub.execute_input": "2023-12-18T11:30:26.048768Z",
     "iopub.status.busy": "2023-12-18T11:30:26.048416Z",
     "iopub.status.idle": "2023-12-18T11:30:26.055227Z",
     "shell.execute_reply": "2023-12-18T11:30:26.054283Z"
    },
    "papermill": {
     "duration": 0.015394,
     "end_time": "2023-12-18T11:30:26.057266",
     "exception": false,
     "start_time": "2023-12-18T11:30:26.041872",
     "status": "completed"
    },
    "tags": []
   },
   "outputs": [],
   "source": [
    "def load_filepaths_labels(folder_path):\n",
    "    file_paths = []\n",
    "    labels = []\n",
    "\n",
    "    # List all directories (labels) in the given folder\n",
    "    for label in os.listdir(folder_path):\n",
    "        label_path = os.path.join(folder_path, label)\n",
    "\n",
    "        # Check if the item in the directory is a subdirectory\n",
    "        if os.path.isdir(label_path):\n",
    "            # List all files in the subdirectory\n",
    "            files = os.listdir(label_path)\n",
    "            \n",
    "            # Create file paths and corresponding labels\n",
    "            file_paths.extend([os.path.join(label_path, file) for file in files])\n",
    "            labels.extend([int(label)] * len(files))\n",
    "\n",
    "    return file_paths, labels"
   ]
  },
  {
   "cell_type": "code",
   "execution_count": 4,
   "id": "375cfff8",
   "metadata": {
    "execution": {
     "iopub.execute_input": "2023-12-18T11:30:26.069979Z",
     "iopub.status.busy": "2023-12-18T11:30:26.069645Z",
     "iopub.status.idle": "2023-12-18T11:30:52.655098Z",
     "shell.execute_reply": "2023-12-18T11:30:52.654153Z"
    },
    "papermill": {
     "duration": 26.593685,
     "end_time": "2023-12-18T11:30:52.657037",
     "exception": false,
     "start_time": "2023-12-18T11:30:26.063352",
     "status": "completed"
    },
    "tags": []
   },
   "outputs": [
    {
     "data": {
      "text/plain": [
       "('/kaggle/input/arabic-letters-classification/Final_Arabic_Alpha_dataset/Final_Arabic_Alpha_dataset/train/32/user009_lam_end_010.png',\n",
       " 32)"
      ]
     },
     "execution_count": 4,
     "metadata": {},
     "output_type": "execute_result"
    }
   ],
   "source": [
    "fileps, labels = load_filepaths_labels(TRAIN_PATH)\n",
    "fileps.pop(13107), labels.pop(13107)"
   ]
  },
  {
   "cell_type": "markdown",
   "id": "0c0668d1",
   "metadata": {
    "papermill": {
     "duration": 0.00516,
     "end_time": "2023-12-18T11:30:52.667600",
     "exception": false,
     "start_time": "2023-12-18T11:30:52.662440",
     "status": "completed"
    },
    "tags": []
   },
   "source": [
    "# Split features to train and validation"
   ]
  },
  {
   "cell_type": "code",
   "execution_count": 5,
   "id": "376391b5",
   "metadata": {
    "execution": {
     "iopub.execute_input": "2023-12-18T11:30:52.679463Z",
     "iopub.status.busy": "2023-12-18T11:30:52.679133Z",
     "iopub.status.idle": "2023-12-18T11:30:53.351720Z",
     "shell.execute_reply": "2023-12-18T11:30:53.350921Z"
    },
    "papermill": {
     "duration": 0.681359,
     "end_time": "2023-12-18T11:30:53.354130",
     "exception": false,
     "start_time": "2023-12-18T11:30:52.672771",
     "status": "completed"
    },
    "tags": []
   },
   "outputs": [],
   "source": [
    "from sklearn.model_selection import train_test_split\n",
    "\n",
    "train_fileps, val_fileps, train_labels, val_labels = train_test_split(fileps, labels, test_size = 0.1, random_state = 42)"
   ]
  },
  {
   "cell_type": "markdown",
   "id": "9a5fe313",
   "metadata": {
    "papermill": {
     "duration": 0.005212,
     "end_time": "2023-12-18T11:30:53.365082",
     "exception": false,
     "start_time": "2023-12-18T11:30:53.359870",
     "status": "completed"
    },
    "tags": []
   },
   "source": [
    "# Preprocess Data"
   ]
  },
  {
   "cell_type": "code",
   "execution_count": 6,
   "id": "36de612a",
   "metadata": {
    "execution": {
     "iopub.execute_input": "2023-12-18T11:30:53.377364Z",
     "iopub.status.busy": "2023-12-18T11:30:53.376463Z",
     "iopub.status.idle": "2023-12-18T11:30:53.391683Z",
     "shell.execute_reply": "2023-12-18T11:30:53.390914Z"
    },
    "papermill": {
     "duration": 0.023355,
     "end_time": "2023-12-18T11:30:53.393600",
     "exception": false,
     "start_time": "2023-12-18T11:30:53.370245",
     "status": "completed"
    },
    "tags": []
   },
   "outputs": [],
   "source": [
    "def min_max(tensor, t):\n",
    "    # Find the indices where the values are greater than t\n",
    "        \n",
    "    indices = tf.where(tensor > t)\n",
    "#         print(indices)\n",
    "    # Find the minimum and maximum indices\n",
    "    min_ = indices[0][0]\n",
    "    max_ = indices[-1][0]\n",
    "    return min_, max_\n",
    "\n",
    "def cut_image(image):\n",
    "    # Get the dimensions of the image\n",
    "    \n",
    "    t = 0.3\n",
    "    pos_image = tf.where(image < 0, -1 * image, image)\n",
    "    pos_image = tf.where(pos_image < t, 0.0, pos_image)            \n",
    "    \n",
    "    x_min, x_max = min_max(tf.reduce_sum(pos_image, axis=0), 1)\n",
    "    y_min, y_max = min_max(tf.reduce_sum(pos_image, axis=1), 1)\n",
    "    # Find the first and last values greater than 0.1 along the x-axis\n",
    "\n",
    "    # Crop the image using the computed indices\n",
    "    pos_image = pos_image[y_min:y_max, :, :]\n",
    "    pos_image = pos_image[:, x_min:x_max, :]\n",
    "\n",
    "    return pos_image, (x_min, x_max)\n",
    "    \n",
    "def normalize_image(image):\n",
    "    # Assuming 'image' is a TensorFlow tensor\n",
    "    min_val = tf.reduce_min(image)\n",
    "    max_val = tf.reduce_max(image)\n",
    "    \n",
    "    # Normalize the image to the range [0, 1]\n",
    "    normalized_image = (image - min_val) / (max_val - min_val)\n",
    "\n",
    "    return normalized_image\n",
    "\n",
    "def _1(image): \n",
    "    return 1- image\n",
    "    \n",
    "def load_decode_image(filepath, label, cut_image_ = False):\n",
    "    # Read and decode the image\n",
    "    image = tf.io.read_file(filepath)\n",
    "    image = tf.image.decode_image(image, channels=1)\n",
    "        \n",
    "    image = tf.image.convert_image_dtype(image, tf.float32)\n",
    "    image = normalize_image(image)\n",
    "    image = _1(image)\n",
    "    \n",
    "    if cut_image_: \n",
    "        image, x_minmax = cut_image(image)\n",
    "    image = tf.image.resize_with_pad(image, target_height=IMAGE_SHAPE[0], target_width=IMAGE_SHAPE[1])\n",
    "\n",
    "    image = tf.image.grayscale_to_rgb(image)\n",
    "    return image, label\n",
    "\n",
    "def build_dataset(filepaths, labels, batch_size = 8, cut_image_ = False, shuffle = True, prefetch = True): \n",
    "    \n",
    "    dataset = tf.data.Dataset.from_tensor_slices((filepaths, labels))\n",
    "    \n",
    "    dataset = dataset.map(lambda x, y: load_decode_image(x, y, cut_image_ = cut_image_))\n",
    "    dataset = dataset.batch(batch_size)\n",
    "    \n",
    "    if shuffle: \n",
    "        dataset = dataset.shuffle(3)\n",
    "        \n",
    "    if prefetch: \n",
    "        dataset = dataset.prefetch(tf.data.AUTOTUNE)\n",
    "        \n",
    "    return dataset "
   ]
  },
  {
   "cell_type": "code",
   "execution_count": 7,
   "id": "e35ebbfb",
   "metadata": {
    "execution": {
     "iopub.execute_input": "2023-12-18T11:30:53.405608Z",
     "iopub.status.busy": "2023-12-18T11:30:53.405273Z",
     "iopub.status.idle": "2023-12-18T11:30:57.717428Z",
     "shell.execute_reply": "2023-12-18T11:30:57.716450Z"
    },
    "papermill": {
     "duration": 4.320818,
     "end_time": "2023-12-18T11:30:57.719822",
     "exception": false,
     "start_time": "2023-12-18T11:30:53.399004",
     "status": "completed"
    },
    "tags": []
   },
   "outputs": [],
   "source": [
    "dataset_with_cut = build_dataset(fileps, labels, batch_size = 512, cut_image_ = True, shuffle = False)\n",
    "dataset_without_cut = build_dataset(fileps, labels, batch_size = 512, shuffle=False)"
   ]
  },
  {
   "cell_type": "code",
   "execution_count": 8,
   "id": "c1d33a4d",
   "metadata": {
    "execution": {
     "iopub.execute_input": "2023-12-18T11:30:57.732563Z",
     "iopub.status.busy": "2023-12-18T11:30:57.731638Z",
     "iopub.status.idle": "2023-12-18T11:31:00.028165Z",
     "shell.execute_reply": "2023-12-18T11:31:00.027293Z"
    },
    "papermill": {
     "duration": 2.304757,
     "end_time": "2023-12-18T11:31:00.030203",
     "exception": false,
     "start_time": "2023-12-18T11:30:57.725446",
     "status": "completed"
    },
    "tags": []
   },
   "outputs": [
    {
     "data": {
      "image/png": "[encoded data removed]",
      "text/plain": [
       "<Figure size 640x480 with 1 Axes>"
      ]
     },
     "metadata": {},
     "output_type": "display_data"
    },
    {
     "data": {
      "image/png": "[encoded data removed]",
      "text/plain": [
       "<Figure size 640x480 with 1 Axes>"
      ]
     },
     "metadata": {},
     "output_type": "display_data"
    }
   ],
   "source": [
    "image = next(iter(dataset_with_cut))[0][10]\n",
    "image_ = next(iter(dataset_without_cut))[0][10]\n",
    "\n",
    "plt.imshow(image_.numpy())\n",
    "plt.show()\n",
    "\n",
    "plt.imshow(image.numpy())\n",
    "plt.show()"
   ]
  },
  {
   "cell_type": "code",
   "execution_count": 9,
   "id": "a7990129",
   "metadata": {
    "execution": {
     "iopub.execute_input": "2023-12-18T11:31:00.043916Z",
     "iopub.status.busy": "2023-12-18T11:31:00.043308Z",
     "iopub.status.idle": "2023-12-18T11:31:00.675487Z",
     "shell.execute_reply": "2023-12-18T11:31:00.674690Z"
    },
    "papermill": {
     "duration": 0.641714,
     "end_time": "2023-12-18T11:31:00.677899",
     "exception": false,
     "start_time": "2023-12-18T11:31:00.036185",
     "status": "completed"
    },
    "tags": []
   },
   "outputs": [],
   "source": [
    "# clear memory\n",
    "del dataset_with_cut, dataset_without_cut\n",
    "# build finnal dataset \n",
    "train_dataset = build_dataset(train_fileps, train_labels, batch_size = 512, cut_image_ = True)\n",
    "valid_dataset = build_dataset(val_fileps, val_labels, batch_size = 64, cut_image_ = True)"
   ]
  },
  {
   "cell_type": "markdown",
   "id": "c533fe52",
   "metadata": {
    "papermill": {
     "duration": 0.00552,
     "end_time": "2023-12-18T11:31:00.689499",
     "exception": false,
     "start_time": "2023-12-18T11:31:00.683979",
     "status": "completed"
    },
    "tags": []
   },
   "source": [
    "# Define Model"
   ]
  },
  {
   "cell_type": "code",
   "execution_count": 10,
   "id": "610831e8",
   "metadata": {
    "execution": {
     "iopub.execute_input": "2023-12-18T11:31:00.702444Z",
     "iopub.status.busy": "2023-12-18T11:31:00.702084Z",
     "iopub.status.idle": "2023-12-18T11:31:23.228906Z",
     "shell.execute_reply": "2023-12-18T11:31:23.227988Z"
    },
    "papermill": {
     "duration": 22.535593,
     "end_time": "2023-12-18T11:31:23.230846",
     "exception": false,
     "start_time": "2023-12-18T11:31:00.695253",
     "status": "completed"
    },
    "tags": []
   },
   "outputs": [
    {
     "name": "stdout",
     "output_type": "stream",
     "text": [
      "Downloading data from https://storage.googleapis.com/keras-applications/efficientnetb7_notop.h5\n",
      "258076736/258076736 [==============================] - 10s 0us/step\n",
      "Model: \"model\"\n",
      "_________________________________________________________________\n",
      " Layer (type)                Output Shape              Param #   \n",
      "=================================================================\n",
      " input_2 (InputLayer)        [(None, 100, 100, 3)]     0         \n",
      "                                                                 \n",
      " efficientnetb7 (Functional  (None, 4, 4, 2560)        64097687  \n",
      " )                                                               \n",
      "                                                                 \n",
      " batch_normalization (Batch  (None, 4, 4, 2560)        10240     \n",
      " Normalization)                                                  \n",
      "                                                                 \n",
      " dropout (Dropout)           (None, 4, 4, 2560)        0         \n",
      "                                                                 \n",
      " global_average_pooling2d (  (None, 2560)              0         \n",
      " GlobalAveragePooling2D)                                         \n",
      "                                                                 \n",
      " batch_normalization_1 (Bat  (None, 2560)              10240     \n",
      " chNormalization)                                                \n",
      "                                                                 \n",
      " dropout_1 (Dropout)         (None, 2560)              0         \n",
      "                                                                 \n",
      " dense (Dense)               (None, 128)               327808    \n",
      "                                                                 \n",
      " dense_1 (Dense)             (None, 65)                8385      \n",
      "                                                                 \n",
      "=================================================================\n",
      "Total params: 64454360 (245.87 MB)\n",
      "Trainable params: 346433 (1.32 MB)\n",
      "Non-trainable params: 64107927 (244.55 MB)\n",
      "_________________________________________________________________\n"
     ]
    }
   ],
   "source": [
    "enet = EfficientNet(\n",
    "    include_top=False,\n",
    "    weights='imagenet',\n",
    "    input_shape=IMAGE_SHAPE,\n",
    "    classifier_activation='softmax'\n",
    ")\n",
    "enet.trainable = False\n",
    "\n",
    "def build_model(input_shape, n_labels): \n",
    "    inputs = Input(shape=input_shape)\n",
    "    \n",
    "    x = enet(inputs)\n",
    "    \n",
    "    # Add BatchNormalization and Dropout\n",
    "    x = BatchNormalization()(x)\n",
    "    x = Dropout(0.3)(x)\n",
    "    \n",
    "    x = GlobalAveragePooling2D()(x)\n",
    "    \n",
    "    # Add another BatchNormalization and Dropout before the output layer if needed\n",
    "    x = BatchNormalization()(x)\n",
    "    x = Dropout(0.1)(x)\n",
    "    \n",
    "    x = Dense(128, activation = 'relu')(x)\n",
    "    outputs = Dense(n_labels, activation='softmax')(x)\n",
    "    \n",
    "    return tf.keras.Model(inputs, outputs)    \n",
    "model = build_model(IMAGE_SHAPE, 65)\n",
    "model.summary()"
   ]
  },
  {
   "cell_type": "code",
   "execution_count": 11,
   "id": "9a038228",
   "metadata": {
    "execution": {
     "iopub.execute_input": "2023-12-18T11:31:23.276659Z",
     "iopub.status.busy": "2023-12-18T11:31:23.276312Z",
     "iopub.status.idle": "2023-12-18T11:31:23.310820Z",
     "shell.execute_reply": "2023-12-18T11:31:23.310073Z"
    },
    "papermill": {
     "duration": 0.059734,
     "end_time": "2023-12-18T11:31:23.313155",
     "exception": false,
     "start_time": "2023-12-18T11:31:23.253421",
     "status": "completed"
    },
    "tags": []
   },
   "outputs": [],
   "source": [
    "# Define EarlyStopping callback\n",
    "early_stopping = EarlyStopping(\n",
    "    monitor='val_loss',  # You can choose a different metric if needed\n",
    "    patience=50,  # Number of epochs with no improvement after which training will be stopped\n",
    "    restore_best_weights=True,  # Restore model weights from the epoch with the best value of the monitored metric\n",
    ")\n",
    "\n",
    "# Define a simple learning rate scheduler as an example\n",
    "def lr_scheduler(epoch, lr):\n",
    "    if epoch < 10:\n",
    "        return lr  # Keep the initial learning rate for the first 10 epochs\n",
    "    else:\n",
    "        return lr * tf.math.exp(-0.1)  # Decay the learning rate exponentially after the 10th epoch\n",
    "\n",
    "# Define LearningRateScheduler callback\n",
    "lr_scheduler = LearningRateScheduler(lr_scheduler)\n",
    "\n",
    "# Define the CrossEntropyLoss\n",
    "loss_fn = tf.keras.losses.SparseCategoricalCrossentropy()\n",
    "\n",
    "# Assuming you have already defined and compiled your model\n",
    "model.compile(optimizer='adam', loss=loss_fn, metrics=['accuracy'])"
   ]
  },
  {
   "cell_type": "markdown",
   "id": "ea34cf38",
   "metadata": {
    "papermill": {
     "duration": 0.022061,
     "end_time": "2023-12-18T11:31:23.357464",
     "exception": false,
     "start_time": "2023-12-18T11:31:23.335403",
     "status": "completed"
    },
    "tags": []
   },
   "source": [
    "# Train Model"
   ]
  },
  {
   "cell_type": "code",
   "execution_count": 12,
   "id": "2cc20a5e",
   "metadata": {
    "execution": {
     "iopub.execute_input": "2023-12-18T11:31:23.404073Z",
     "iopub.status.busy": "2023-12-18T11:31:23.403247Z",
     "iopub.status.idle": "2023-12-18T13:35:46.454747Z",
     "shell.execute_reply": "2023-12-18T13:35:46.453780Z"
    },
    "papermill": {
     "duration": 7463.708179,
     "end_time": "2023-12-18T13:35:47.088346",
     "exception": false,
     "start_time": "2023-12-18T11:31:23.380167",
     "status": "completed"
    },
    "tags": []
   },
   "outputs": [
    {
     "name": "stdout",
     "output_type": "stream",
     "text": [
      "Epoch 1/100\n"
     ]
    },
    {
     "name": "stderr",
     "output_type": "stream",
     "text": [
      "2023-12-18 11:31:45.283528: E tensorflow/core/grappler/optimizers/meta_optimizer.cc:954] layout failed: INVALID_ARGUMENT: Size of values 0 does not match size of permutation 4 @ fanin shape inmodel/efficientnetb7/block1b_drop/dropout/SelectV2-2-TransposeNHWCToNCHW-LayoutOptimizer\n"
     ]
    },
    {
     "name": "stdout",
     "output_type": "stream",
     "text": [
      "75/75 [==============================] - 126s 1s/step - loss: 4.2741 - accuracy: 0.0418 - val_loss: 4.1163 - val_accuracy: 0.0287 - lr: 0.0010\n",
      "Epoch 2/100\n",
      "75/75 [==============================] - 74s 978ms/step - loss: 3.9769 - accuracy: 0.0659 - val_loss: 4.0613 - val_accuracy: 0.0524 - lr: 0.0010\n",
      "Epoch 3/100\n",
      "75/75 [==============================] - 74s 978ms/step - loss: 3.8531 - accuracy: 0.0733 - val_loss: 3.9528 - val_accuracy: 0.0876 - lr: 0.0010\n",
      "Epoch 4/100\n",
      "75/75 [==============================] - 74s 978ms/step - loss: 3.7814 - accuracy: 0.0831 - val_loss: 3.8287 - val_accuracy: 0.1180 - lr: 0.0010\n",
      "Epoch 5/100\n",
      "75/75 [==============================] - 74s 977ms/step - loss: 3.7276 - accuracy: 0.0904 - val_loss: 3.7067 - val_accuracy: 0.1332 - lr: 0.0010\n",
      "Epoch 6/100\n",
      "75/75 [==============================] - 74s 978ms/step - loss: 3.6992 - accuracy: 0.0933 - val_loss: 3.6208 - val_accuracy: 0.1487 - lr: 0.0010\n",
      "Epoch 7/100\n",
      "75/75 [==============================] - 74s 977ms/step - loss: 3.6770 - accuracy: 0.0979 - val_loss: 3.5721 - val_accuracy: 0.1400 - lr: 0.0010\n",
      "Epoch 8/100\n",
      "75/75 [==============================] - 74s 977ms/step - loss: 3.6510 - accuracy: 0.0996 - val_loss: 3.5356 - val_accuracy: 0.1516 - lr: 0.0010\n",
      "Epoch 9/100\n",
      "75/75 [==============================] - 74s 977ms/step - loss: 3.6344 - accuracy: 0.1033 - val_loss: 3.5058 - val_accuracy: 0.1530 - lr: 0.0010\n",
      "Epoch 10/100\n",
      "75/75 [==============================] - 74s 978ms/step - loss: 3.6190 - accuracy: 0.1058 - val_loss: 3.4822 - val_accuracy: 0.1607 - lr: 0.0010\n",
      "Epoch 11/100\n",
      "75/75 [==============================] - 74s 977ms/step - loss: 3.6050 - accuracy: 0.1089 - val_loss: 3.4749 - val_accuracy: 0.1628 - lr: 9.0484e-04\n",
      "Epoch 12/100\n",
      "75/75 [==============================] - 74s 978ms/step - loss: 3.6011 - accuracy: 0.1080 - val_loss: 3.4722 - val_accuracy: 0.1579 - lr: 8.1873e-04\n",
      "Epoch 13/100\n",
      "75/75 [==============================] - 74s 977ms/step - loss: 3.5931 - accuracy: 0.1117 - val_loss: 3.4555 - val_accuracy: 0.1621 - lr: 7.4082e-04\n",
      "Epoch 14/100\n",
      "75/75 [==============================] - 74s 977ms/step - loss: 3.5775 - accuracy: 0.1143 - val_loss: 3.4368 - val_accuracy: 0.1640 - lr: 6.7032e-04\n",
      "Epoch 15/100\n",
      "75/75 [==============================] - 74s 976ms/step - loss: 3.5742 - accuracy: 0.1146 - val_loss: 3.4260 - val_accuracy: 0.1713 - lr: 6.0653e-04\n",
      "Epoch 16/100\n",
      "75/75 [==============================] - 74s 976ms/step - loss: 3.5683 - accuracy: 0.1141 - val_loss: 3.4210 - val_accuracy: 0.1701 - lr: 5.4881e-04\n",
      "Epoch 17/100\n",
      "75/75 [==============================] - 74s 976ms/step - loss: 3.5507 - accuracy: 0.1206 - val_loss: 3.4095 - val_accuracy: 0.1722 - lr: 4.9659e-04\n",
      "Epoch 18/100\n",
      "75/75 [==============================] - 73s 971ms/step - loss: 3.5547 - accuracy: 0.1176 - val_loss: 3.4132 - val_accuracy: 0.1739 - lr: 4.4933e-04\n",
      "Epoch 19/100\n",
      "75/75 [==============================] - 74s 972ms/step - loss: 3.5538 - accuracy: 0.1162 - val_loss: 3.4105 - val_accuracy: 0.1755 - lr: 4.0657e-04\n",
      "Epoch 20/100\n",
      "75/75 [==============================] - 74s 977ms/step - loss: 3.5394 - accuracy: 0.1200 - val_loss: 3.3924 - val_accuracy: 0.1797 - lr: 3.6788e-04\n",
      "Epoch 21/100\n",
      "75/75 [==============================] - 74s 972ms/step - loss: 3.5467 - accuracy: 0.1222 - val_loss: 3.3990 - val_accuracy: 0.1762 - lr: 3.3287e-04\n",
      "Epoch 22/100\n",
      "75/75 [==============================] - 74s 976ms/step - loss: 3.5418 - accuracy: 0.1212 - val_loss: 3.3916 - val_accuracy: 0.1786 - lr: 3.0119e-04\n",
      "Epoch 23/100\n",
      "75/75 [==============================] - 74s 976ms/step - loss: 3.5346 - accuracy: 0.1215 - val_loss: 3.3878 - val_accuracy: 0.1774 - lr: 2.7253e-04\n",
      "Epoch 24/100\n",
      "75/75 [==============================] - 74s 976ms/step - loss: 3.5301 - accuracy: 0.1216 - val_loss: 3.3834 - val_accuracy: 0.1800 - lr: 2.4660e-04\n",
      "Epoch 25/100\n",
      "75/75 [==============================] - 74s 976ms/step - loss: 3.5297 - accuracy: 0.1211 - val_loss: 3.3819 - val_accuracy: 0.1786 - lr: 2.2313e-04\n",
      "Epoch 26/100\n",
      "75/75 [==============================] - 74s 977ms/step - loss: 3.5310 - accuracy: 0.1213 - val_loss: 3.3818 - val_accuracy: 0.1774 - lr: 2.0190e-04\n",
      "Epoch 27/100\n",
      "75/75 [==============================] - 74s 977ms/step - loss: 3.5297 - accuracy: 0.1244 - val_loss: 3.3752 - val_accuracy: 0.1807 - lr: 1.8268e-04\n",
      "Epoch 28/100\n",
      "75/75 [==============================] - 73s 971ms/step - loss: 3.5269 - accuracy: 0.1230 - val_loss: 3.3810 - val_accuracy: 0.1809 - lr: 1.6530e-04\n",
      "Epoch 29/100\n",
      "75/75 [==============================] - 74s 977ms/step - loss: 3.5263 - accuracy: 0.1247 - val_loss: 3.3746 - val_accuracy: 0.1819 - lr: 1.4957e-04\n",
      "Epoch 30/100\n",
      "75/75 [==============================] - 74s 976ms/step - loss: 3.5270 - accuracy: 0.1241 - val_loss: 3.3734 - val_accuracy: 0.1783 - lr: 1.3534e-04\n",
      "Epoch 31/100\n",
      "75/75 [==============================] - 74s 976ms/step - loss: 3.5217 - accuracy: 0.1252 - val_loss: 3.3726 - val_accuracy: 0.1807 - lr: 1.2246e-04\n",
      "Epoch 32/100\n",
      "75/75 [==============================] - 74s 976ms/step - loss: 3.5226 - accuracy: 0.1245 - val_loss: 3.3720 - val_accuracy: 0.1807 - lr: 1.1080e-04\n",
      "Epoch 33/100\n",
      "75/75 [==============================] - 74s 977ms/step - loss: 3.5177 - accuracy: 0.1246 - val_loss: 3.3683 - val_accuracy: 0.1847 - lr: 1.0026e-04\n",
      "Epoch 34/100\n",
      "75/75 [==============================] - 74s 976ms/step - loss: 3.5181 - accuracy: 0.1248 - val_loss: 3.3681 - val_accuracy: 0.1828 - lr: 9.0718e-05\n",
      "Epoch 35/100\n",
      "75/75 [==============================] - 74s 977ms/step - loss: 3.5220 - accuracy: 0.1235 - val_loss: 3.3679 - val_accuracy: 0.1816 - lr: 8.2085e-05\n",
      "Epoch 36/100\n",
      "75/75 [==============================] - 74s 977ms/step - loss: 3.5176 - accuracy: 0.1264 - val_loss: 3.3659 - val_accuracy: 0.1816 - lr: 7.4273e-05\n",
      "Epoch 37/100\n",
      "75/75 [==============================] - 73s 972ms/step - loss: 3.5272 - accuracy: 0.1210 - val_loss: 3.3663 - val_accuracy: 0.1809 - lr: 6.7205e-05\n",
      "Epoch 38/100\n",
      "75/75 [==============================] - 74s 976ms/step - loss: 3.5138 - accuracy: 0.1277 - val_loss: 3.3646 - val_accuracy: 0.1812 - lr: 6.0810e-05\n",
      "Epoch 39/100\n",
      "75/75 [==============================] - 73s 972ms/step - loss: 3.5192 - accuracy: 0.1232 - val_loss: 3.3652 - val_accuracy: 0.1807 - lr: 5.5023e-05\n",
      "Epoch 40/100\n",
      "75/75 [==============================] - 73s 971ms/step - loss: 3.5182 - accuracy: 0.1257 - val_loss: 3.3651 - val_accuracy: 0.1837 - lr: 4.9787e-05\n",
      "Epoch 41/100\n",
      "75/75 [==============================] - 74s 977ms/step - loss: 3.5182 - accuracy: 0.1257 - val_loss: 3.3632 - val_accuracy: 0.1844 - lr: 4.5049e-05\n",
      "Epoch 42/100\n",
      "75/75 [==============================] - 74s 976ms/step - loss: 3.5128 - accuracy: 0.1280 - val_loss: 3.3624 - val_accuracy: 0.1840 - lr: 4.0762e-05\n",
      "Epoch 43/100\n",
      "75/75 [==============================] - 74s 976ms/step - loss: 3.5111 - accuracy: 0.1274 - val_loss: 3.3619 - val_accuracy: 0.1837 - lr: 3.6883e-05\n",
      "Epoch 44/100\n",
      "75/75 [==============================] - 74s 976ms/step - loss: 3.5139 - accuracy: 0.1270 - val_loss: 3.3616 - val_accuracy: 0.1830 - lr: 3.3373e-05\n",
      "Epoch 45/100\n",
      "75/75 [==============================] - 74s 977ms/step - loss: 3.5082 - accuracy: 0.1283 - val_loss: 3.3614 - val_accuracy: 0.1835 - lr: 3.0197e-05\n",
      "Epoch 46/100\n",
      "75/75 [==============================] - 74s 976ms/step - loss: 3.5127 - accuracy: 0.1263 - val_loss: 3.3614 - val_accuracy: 0.1828 - lr: 2.7324e-05\n",
      "Epoch 47/100\n",
      "75/75 [==============================] - 74s 976ms/step - loss: 3.5134 - accuracy: 0.1234 - val_loss: 3.3602 - val_accuracy: 0.1830 - lr: 2.4723e-05\n",
      "Epoch 48/100\n",
      "75/75 [==============================] - 74s 976ms/step - loss: 3.5138 - accuracy: 0.1257 - val_loss: 3.3598 - val_accuracy: 0.1835 - lr: 2.2371e-05\n",
      "Epoch 49/100\n",
      "75/75 [==============================] - 74s 976ms/step - loss: 3.5180 - accuracy: 0.1264 - val_loss: 3.3594 - val_accuracy: 0.1840 - lr: 2.0242e-05\n",
      "Epoch 50/100\n",
      "75/75 [==============================] - 74s 976ms/step - loss: 3.5098 - accuracy: 0.1264 - val_loss: 3.3593 - val_accuracy: 0.1844 - lr: 1.8316e-05\n",
      "Epoch 51/100\n",
      "75/75 [==============================] - 74s 976ms/step - loss: 3.5147 - accuracy: 0.1251 - val_loss: 3.3584 - val_accuracy: 0.1842 - lr: 1.6573e-05\n",
      "Epoch 52/100\n",
      "75/75 [==============================] - 73s 971ms/step - loss: 3.5152 - accuracy: 0.1268 - val_loss: 3.3587 - val_accuracy: 0.1844 - lr: 1.4996e-05\n",
      "Epoch 53/100\n",
      "75/75 [==============================] - 73s 972ms/step - loss: 3.5168 - accuracy: 0.1262 - val_loss: 3.3585 - val_accuracy: 0.1847 - lr: 1.3569e-05\n",
      "Epoch 54/100\n",
      "75/75 [==============================] - 73s 971ms/step - loss: 3.5129 - accuracy: 0.1269 - val_loss: 3.3590 - val_accuracy: 0.1828 - lr: 1.2277e-05\n",
      "Epoch 55/100\n",
      "75/75 [==============================] - 74s 976ms/step - loss: 3.5105 - accuracy: 0.1260 - val_loss: 3.3581 - val_accuracy: 0.1840 - lr: 1.1109e-05\n",
      "Epoch 56/100\n",
      "75/75 [==============================] - 73s 972ms/step - loss: 3.5090 - accuracy: 0.1272 - val_loss: 3.3586 - val_accuracy: 0.1844 - lr: 1.0052e-05\n",
      "Epoch 57/100\n",
      "75/75 [==============================] - 73s 971ms/step - loss: 3.5065 - accuracy: 0.1243 - val_loss: 3.3582 - val_accuracy: 0.1842 - lr: 9.0953e-06\n",
      "Epoch 58/100\n",
      "75/75 [==============================] - 74s 972ms/step - loss: 3.5173 - accuracy: 0.1249 - val_loss: 3.3582 - val_accuracy: 0.1854 - lr: 8.2297e-06\n",
      "Epoch 59/100\n",
      "75/75 [==============================] - 76s 1s/step - loss: 3.5111 - accuracy: 0.1279 - val_loss: 3.3572 - val_accuracy: 0.1849 - lr: 7.4466e-06\n",
      "Epoch 60/100\n",
      "75/75 [==============================] - 74s 971ms/step - loss: 3.5071 - accuracy: 0.1257 - val_loss: 3.3573 - val_accuracy: 0.1859 - lr: 6.7379e-06\n",
      "Epoch 61/100\n",
      "75/75 [==============================] - 74s 972ms/step - loss: 3.5098 - accuracy: 0.1276 - val_loss: 3.3579 - val_accuracy: 0.1849 - lr: 6.0967e-06\n",
      "Epoch 62/100\n",
      "75/75 [==============================] - 74s 972ms/step - loss: 3.5113 - accuracy: 0.1258 - val_loss: 3.3574 - val_accuracy: 0.1854 - lr: 5.5165e-06\n",
      "Epoch 63/100\n",
      "75/75 [==============================] - 74s 976ms/step - loss: 3.5096 - accuracy: 0.1289 - val_loss: 3.3568 - val_accuracy: 0.1847 - lr: 4.9916e-06\n",
      "Epoch 64/100\n",
      "75/75 [==============================] - 73s 971ms/step - loss: 3.5155 - accuracy: 0.1263 - val_loss: 3.3571 - val_accuracy: 0.1849 - lr: 4.5166e-06\n",
      "Epoch 65/100\n",
      "75/75 [==============================] - 74s 977ms/step - loss: 3.5154 - accuracy: 0.1259 - val_loss: 3.3567 - val_accuracy: 0.1840 - lr: 4.0868e-06\n",
      "Epoch 66/100\n",
      "75/75 [==============================] - 73s 971ms/step - loss: 3.5117 - accuracy: 0.1243 - val_loss: 3.3572 - val_accuracy: 0.1844 - lr: 3.6979e-06\n",
      "Epoch 67/100\n",
      "75/75 [==============================] - 73s 971ms/step - loss: 3.5025 - accuracy: 0.1286 - val_loss: 3.3572 - val_accuracy: 0.1847 - lr: 3.3460e-06\n",
      "Epoch 68/100\n",
      "75/75 [==============================] - 73s 972ms/step - loss: 3.5042 - accuracy: 0.1288 - val_loss: 3.3577 - val_accuracy: 0.1840 - lr: 3.0275e-06\n",
      "Epoch 69/100\n",
      "75/75 [==============================] - 73s 971ms/step - loss: 3.5042 - accuracy: 0.1284 - val_loss: 3.3578 - val_accuracy: 0.1835 - lr: 2.7394e-06\n",
      "Epoch 70/100\n",
      "75/75 [==============================] - 73s 972ms/step - loss: 3.5050 - accuracy: 0.1289 - val_loss: 3.3573 - val_accuracy: 0.1840 - lr: 2.4787e-06\n",
      "Epoch 71/100\n",
      "75/75 [==============================] - 74s 971ms/step - loss: 3.5104 - accuracy: 0.1264 - val_loss: 3.3568 - val_accuracy: 0.1842 - lr: 2.2429e-06\n",
      "Epoch 72/100\n",
      "75/75 [==============================] - 73s 971ms/step - loss: 3.5115 - accuracy: 0.1260 - val_loss: 3.3570 - val_accuracy: 0.1842 - lr: 2.0294e-06\n",
      "Epoch 73/100\n",
      "75/75 [==============================] - 73s 972ms/step - loss: 3.5213 - accuracy: 0.1232 - val_loss: 3.3574 - val_accuracy: 0.1842 - lr: 1.8363e-06\n",
      "Epoch 74/100\n",
      "75/75 [==============================] - 74s 972ms/step - loss: 3.5030 - accuracy: 0.1280 - val_loss: 3.3573 - val_accuracy: 0.1844 - lr: 1.6616e-06\n",
      "Epoch 75/100\n",
      "75/75 [==============================] - 74s 971ms/step - loss: 3.5136 - accuracy: 0.1259 - val_loss: 3.3569 - val_accuracy: 0.1849 - lr: 1.5034e-06\n",
      "Epoch 76/100\n",
      "75/75 [==============================] - 73s 972ms/step - loss: 3.5131 - accuracy: 0.1244 - val_loss: 3.3572 - val_accuracy: 0.1847 - lr: 1.3604e-06\n",
      "Epoch 77/100\n",
      "75/75 [==============================] - 74s 971ms/step - loss: 3.5139 - accuracy: 0.1263 - val_loss: 3.3569 - val_accuracy: 0.1844 - lr: 1.2309e-06\n",
      "Epoch 78/100\n",
      "75/75 [==============================] - 73s 971ms/step - loss: 3.5075 - accuracy: 0.1269 - val_loss: 3.3569 - val_accuracy: 0.1852 - lr: 1.1138e-06\n",
      "Epoch 79/100\n",
      "75/75 [==============================] - 73s 971ms/step - loss: 3.5151 - accuracy: 0.1273 - val_loss: 3.3571 - val_accuracy: 0.1847 - lr: 1.0078e-06\n",
      "Epoch 80/100\n",
      "75/75 [==============================] - 74s 972ms/step - loss: 3.5062 - accuracy: 0.1256 - val_loss: 3.3572 - val_accuracy: 0.1847 - lr: 9.1188e-07\n",
      "Epoch 81/100\n",
      "75/75 [==============================] - 73s 971ms/step - loss: 3.5052 - accuracy: 0.1273 - val_loss: 3.3571 - val_accuracy: 0.1842 - lr: 8.2510e-07\n",
      "Epoch 82/100\n",
      "75/75 [==============================] - 73s 971ms/step - loss: 3.5117 - accuracy: 0.1273 - val_loss: 3.3574 - val_accuracy: 0.1842 - lr: 7.4658e-07\n",
      "Epoch 83/100\n",
      "75/75 [==============================] - 74s 977ms/step - loss: 3.5069 - accuracy: 0.1281 - val_loss: 3.3563 - val_accuracy: 0.1854 - lr: 6.7554e-07\n",
      "Epoch 84/100\n",
      "75/75 [==============================] - 73s 971ms/step - loss: 3.5069 - accuracy: 0.1283 - val_loss: 3.3566 - val_accuracy: 0.1844 - lr: 6.1125e-07\n",
      "Epoch 85/100\n",
      "75/75 [==============================] - 74s 972ms/step - loss: 3.5068 - accuracy: 0.1265 - val_loss: 3.3572 - val_accuracy: 0.1842 - lr: 5.5308e-07\n",
      "Epoch 86/100\n",
      "75/75 [==============================] - 74s 972ms/step - loss: 3.5112 - accuracy: 0.1273 - val_loss: 3.3570 - val_accuracy: 0.1849 - lr: 5.0045e-07\n",
      "Epoch 87/100\n",
      "75/75 [==============================] - 73s 971ms/step - loss: 3.5084 - accuracy: 0.1270 - val_loss: 3.3567 - val_accuracy: 0.1842 - lr: 4.5283e-07\n",
      "Epoch 88/100\n",
      "75/75 [==============================] - 73s 972ms/step - loss: 3.5151 - accuracy: 0.1250 - val_loss: 3.3573 - val_accuracy: 0.1844 - lr: 4.0973e-07\n",
      "Epoch 89/100\n",
      "75/75 [==============================] - 73s 971ms/step - loss: 3.5092 - accuracy: 0.1295 - val_loss: 3.3574 - val_accuracy: 0.1842 - lr: 3.7074e-07\n",
      "Epoch 90/100\n",
      "75/75 [==============================] - 73s 972ms/step - loss: 3.5112 - accuracy: 0.1287 - val_loss: 3.3570 - val_accuracy: 0.1842 - lr: 3.3546e-07\n",
      "Epoch 91/100\n",
      "75/75 [==============================] - 73s 972ms/step - loss: 3.5093 - accuracy: 0.1275 - val_loss: 3.3572 - val_accuracy: 0.1844 - lr: 3.0354e-07\n",
      "Epoch 92/100\n",
      "75/75 [==============================] - 74s 971ms/step - loss: 3.5138 - accuracy: 0.1256 - val_loss: 3.3570 - val_accuracy: 0.1842 - lr: 2.7465e-07\n",
      "Epoch 93/100\n",
      "75/75 [==============================] - 73s 971ms/step - loss: 3.5074 - accuracy: 0.1269 - val_loss: 3.3565 - val_accuracy: 0.1847 - lr: 2.4852e-07\n",
      "Epoch 94/100\n",
      "75/75 [==============================] - 74s 977ms/step - loss: 3.5161 - accuracy: 0.1247 - val_loss: 3.3561 - val_accuracy: 0.1849 - lr: 2.2487e-07\n",
      "Epoch 95/100\n",
      "75/75 [==============================] - 74s 977ms/step - loss: 3.5112 - accuracy: 0.1265 - val_loss: 3.3561 - val_accuracy: 0.1852 - lr: 2.0347e-07\n",
      "Epoch 96/100\n",
      "75/75 [==============================] - 74s 976ms/step - loss: 3.5056 - accuracy: 0.1272 - val_loss: 3.3556 - val_accuracy: 0.1852 - lr: 1.8410e-07\n",
      "Epoch 97/100\n",
      "75/75 [==============================] - 73s 971ms/step - loss: 3.5035 - accuracy: 0.1282 - val_loss: 3.3567 - val_accuracy: 0.1849 - lr: 1.6659e-07\n",
      "Epoch 98/100\n",
      "75/75 [==============================] - 73s 971ms/step - loss: 3.5128 - accuracy: 0.1276 - val_loss: 3.3565 - val_accuracy: 0.1844 - lr: 1.5073e-07\n",
      "Epoch 99/100\n",
      "75/75 [==============================] - 73s 971ms/step - loss: 3.5084 - accuracy: 0.1291 - val_loss: 3.3564 - val_accuracy: 0.1852 - lr: 1.3639e-07\n",
      "Epoch 100/100\n",
      "75/75 [==============================] - 73s 971ms/step - loss: 3.5067 - accuracy: 0.1273 - val_loss: 3.3570 - val_accuracy: 0.1847 - lr: 1.2341e-07\n"
     ]
    }
   ],
   "source": [
    "history = model.fit(train_dataset, \n",
    "          epochs = 100, \n",
    "          validation_data = valid_dataset, \n",
    "          callbacks = [early_stopping, lr_scheduler])"
   ]
  },
  {
   "cell_type": "code",
   "execution_count": 13,
   "id": "4077336a",
   "metadata": {
    "execution": {
     "iopub.execute_input": "2023-12-18T13:35:48.415179Z",
     "iopub.status.busy": "2023-12-18T13:35:48.414751Z",
     "iopub.status.idle": "2023-12-18T13:37:33.475186Z",
     "shell.execute_reply": "2023-12-18T13:37:33.474156Z"
    },
    "papermill": {
     "duration": 105.693799,
     "end_time": "2023-12-18T13:37:33.477648",
     "exception": false,
     "start_time": "2023-12-18T13:35:47.783849",
     "status": "completed"
    },
    "tags": []
   },
   "outputs": [],
   "source": [
    "model.save('')"
   ]
  }
 ],
 "metadata": {
  "kaggle": {
   "accelerator": "gpu",
   "dataSources": [
    {
     "databundleVersionId": 7211464,
     "sourceId": 65471,
     "sourceType": "competition"
    }
   ],
   "dockerImageVersionId": 30626,
   "isGpuEnabled": true,
   "isInternetEnabled": true,
   "language": "python",
   "sourceType": "notebook"
  },
  "kernelspec": {
   "display_name": "Python 3",
   "language": "python",
   "name": "python3"
  },
  "language_info": {
   "codemirror_mode": {
    "name": "ipython",
    "version": 3
   },
   "file_extension": ".py",
   "mimetype": "text/x-python",
   "name": "python",
   "nbconvert_exporter": "python",
   "pygments_lexer": "ipython3",
   "version": "3.10.12"
  },
  "papermill": {
   "default_parameters": {},
   "duration": 7646.9286,
   "end_time": "2023-12-18T13:37:37.150188",
   "environment_variables": {},
   "exception": null,
   "input_path": "__notebook__.ipynb",
   "output_path": "__notebook__.ipynb",
   "parameters": {},
   "start_time": "2023-12-18T11:30:10.221588",
   "version": "2.4.0"
  }
 },
 "nbformat": 4,
 "nbformat_minor": 5
}
