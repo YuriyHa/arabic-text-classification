{
 "cells": [
  {
   "cell_type": "code",
   "execution_count": 1,
   "id": "cc6bfe10",
   "metadata": {
    "_cell_guid": "b1076dfc-b9ad-4769-8c92-a6c4dae69d19",
    "_uuid": "8f2839f25d086af736a60e9eeb907d3b93b6e0e5",
    "execution": {
     "iopub.execute_input": "2023-12-16T14:34:46.612127Z",
     "iopub.status.busy": "2023-12-16T14:34:46.611815Z",
     "iopub.status.idle": "2023-12-16T14:35:00.287834Z",
     "shell.execute_reply": "2023-12-16T14:35:00.286728Z"
    },
    "papermill": {
     "duration": 13.684152,
     "end_time": "2023-12-16T14:35:00.290469",
     "exception": false,
     "start_time": "2023-12-16T14:34:46.606317",
     "status": "completed"
    },
    "tags": []
   },
   "outputs": [
    {
     "name": "stderr",
     "output_type": "stream",
     "text": [
      "/opt/conda/lib/python3.10/site-packages/scipy/__init__.py:146: UserWarning: A NumPy version >=1.16.5 and <1.23.0 is required for this version of SciPy (detected version 1.24.3\n",
      "  warnings.warn(f\"A NumPy version >={np_minversion} and <{np_maxversion}\"\n"
     ]
    }
   ],
   "source": [
    "import os \n",
    "os.environ['KERAS_BACKEND'] = 'tensorflow'\n",
    "# Math\n",
    "import numpy as np \n",
    "# NN Buiding\n",
    "import tensorflow as tf \n",
    "from tensorflow.keras.layers import (Input, \n",
    "                                     Conv2D, \n",
    "                                     MaxPooling2D, \n",
    "                                     Flatten, \n",
    "                                     Dense, \n",
    "                                     BatchNormalization, \n",
    "#                                      InstanceNormalization\n",
    "                                    )\n",
    "from tensorflow.data import Dataset\n",
    "from tensorflow.keras.callbacks import EarlyStopping, LearningRateScheduler, ModelCheckpoint\n",
    "from tensorflow.keras.metrics import Accuracy, Precision, Recall, AUC\n",
    "# Augmentation\n",
    "\n",
    "\n",
    "# Visualization \n",
    "import matplotlib.pyplot as plt "
   ]
  },
  {
   "cell_type": "markdown",
   "id": "9c77e416",
   "metadata": {
    "papermill": {
     "duration": 0.003998,
     "end_time": "2023-12-16T14:35:00.299021",
     "exception": false,
     "start_time": "2023-12-16T14:35:00.295023",
     "status": "completed"
    },
    "tags": []
   },
   "source": [
    "# Load Dataset"
   ]
  },
  {
   "cell_type": "code",
   "execution_count": 2,
   "id": "0c66f0da",
   "metadata": {
    "execution": {
     "iopub.execute_input": "2023-12-16T14:35:00.309076Z",
     "iopub.status.busy": "2023-12-16T14:35:00.308172Z",
     "iopub.status.idle": "2023-12-16T14:35:00.312767Z",
     "shell.execute_reply": "2023-12-16T14:35:00.311868Z"
    },
    "papermill": {
     "duration": 0.011485,
     "end_time": "2023-12-16T14:35:00.314657",
     "exception": false,
     "start_time": "2023-12-16T14:35:00.303172",
     "status": "completed"
    },
    "tags": []
   },
   "outputs": [],
   "source": [
    "IMAGE_SHAPE = [100, 100, 1]\n",
    "NUM_CLASSES = 65 "
   ]
  },
  {
   "cell_type": "code",
   "execution_count": 3,
   "id": "cdf7623d",
   "metadata": {
    "execution": {
     "iopub.execute_input": "2023-12-16T14:35:00.323353Z",
     "iopub.status.busy": "2023-12-16T14:35:00.323084Z",
     "iopub.status.idle": "2023-12-16T14:35:00.329202Z",
     "shell.execute_reply": "2023-12-16T14:35:00.328389Z"
    },
    "papermill": {
     "duration": 0.012664,
     "end_time": "2023-12-16T14:35:00.331153",
     "exception": false,
     "start_time": "2023-12-16T14:35:00.318489",
     "status": "completed"
    },
    "tags": []
   },
   "outputs": [],
   "source": [
    "def load_filepaths_labels(folder_path):\n",
    "    file_paths = []\n",
    "    labels = []\n",
    "\n",
    "    # List all directories (labels) in the given folder\n",
    "    for label in os.listdir(folder_path):\n",
    "        label_path = os.path.join(folder_path, label)\n",
    "\n",
    "        # Check if the item in the directory is a subdirectory\n",
    "        if os.path.isdir(label_path):\n",
    "            # List all files in the subdirectory\n",
    "            files = os.listdir(label_path)\n",
    "            \n",
    "            # Create file paths and corresponding labels\n",
    "            file_paths.extend([os.path.join(label_path, file) for file in files])\n",
    "            labels.extend([int(label)] * len(files))\n",
    "\n",
    "    return file_paths, labels"
   ]
  },
  {
   "cell_type": "code",
   "execution_count": 4,
   "id": "dc5df971",
   "metadata": {
    "execution": {
     "iopub.execute_input": "2023-12-16T14:35:00.339897Z",
     "iopub.status.busy": "2023-12-16T14:35:00.339580Z",
     "iopub.status.idle": "2023-12-16T14:35:00.348068Z",
     "shell.execute_reply": "2023-12-16T14:35:00.347261Z"
    },
    "papermill": {
     "duration": 0.015073,
     "end_time": "2023-12-16T14:35:00.350093",
     "exception": false,
     "start_time": "2023-12-16T14:35:00.335020",
     "status": "completed"
    },
    "tags": []
   },
   "outputs": [],
   "source": [
    "def load_decode_image(filepath, label):\n",
    "    # One-hot encoding the label\n",
    "    label = tf.one_hot(label, depth=NUM_CLASSES)\n",
    "\n",
    "    # Read and decode the image\n",
    "    image = tf.io.read_file(filepath)\n",
    "    image = tf.image.decode_image(image, channels=IMAGE_SHAPE[-1])\n",
    "    image = image * -1\n",
    "\n",
    "    image = tf.image.convert_image_dtype(image, tf.float32)\n",
    "    \n",
    "    # Normalize the image\n",
    "    # Resize the image while maintaining aspect ratio\n",
    "    image = tf.image.resize_with_pad(image, target_height=IMAGE_SHAPE[0], target_width=IMAGE_SHAPE[1], method = 'bicubic')\n",
    "\n",
    "    return image, label\n",
    "\n",
    "def build_dataset(filepaths, labels, batch_size = 8, shuffle = True, prefetch = True): \n",
    "    \n",
    "    dataset = tf.data.Dataset.from_tensor_slices((filepaths, labels))\n",
    "    \n",
    "    dataset = dataset.map(lambda x, y: load_decode_image(x, y))\n",
    "    dataset = dataset.batch(batch_size)\n",
    "    \n",
    "    if shuffle: \n",
    "        dataset = dataset.shuffle(2)\n",
    "        \n",
    "    if prefetch: \n",
    "        dataset = dataset.prefetch(tf.data.AUTOTUNE)\n",
    "        \n",
    "    return dataset  "
   ]
  },
  {
   "cell_type": "markdown",
   "id": "a6eca757",
   "metadata": {
    "papermill": {
     "duration": 0.003511,
     "end_time": "2023-12-16T14:35:00.357430",
     "exception": false,
     "start_time": "2023-12-16T14:35:00.353919",
     "status": "completed"
    },
    "tags": []
   },
   "source": [
    "# Build Model"
   ]
  },
  {
   "cell_type": "code",
   "execution_count": 5,
   "id": "d7380c64",
   "metadata": {
    "execution": {
     "iopub.execute_input": "2023-12-16T14:35:00.366152Z",
     "iopub.status.busy": "2023-12-16T14:35:00.365865Z",
     "iopub.status.idle": "2023-12-16T14:35:00.371636Z",
     "shell.execute_reply": "2023-12-16T14:35:00.370758Z"
    },
    "papermill": {
     "duration": 0.012199,
     "end_time": "2023-12-16T14:35:00.373516",
     "exception": false,
     "start_time": "2023-12-16T14:35:00.361317",
     "status": "completed"
    },
    "tags": []
   },
   "outputs": [],
   "source": [
    "def enc_bl(n_filters, strides=2, bnorm=True) -> tf.keras.Model: \n",
    "    # Convolutional block with optional batch normalization\n",
    "    \n",
    "    # Convolutional layer with kernel size 2 and specified number of filters\n",
    "    # Use 'strides' instead of 'stribes' (typo) and specify padding='same'\n",
    "    conv_init = tf.keras.initializers.RandomNormal(mean=0.0, stddev=0.2)\n",
    "    head = tf.keras.Sequential([\n",
    "        Conv2D(n_filters, kernel_size=2, strides=1, padding='same', bias_initializer=conv_init), \n",
    "        MaxPooling2D(2, strides=strides)  # Corrected 'stribes' to 'strides'\n",
    "    ])\n",
    "    \n",
    "    if bnorm: \n",
    "        head.add(BatchNormalization())\n",
    "        \n",
    "    return head"
   ]
  },
  {
   "cell_type": "code",
   "execution_count": 6,
   "id": "a829ae96",
   "metadata": {
    "execution": {
     "iopub.execute_input": "2023-12-16T14:35:00.382164Z",
     "iopub.status.busy": "2023-12-16T14:35:00.381883Z",
     "iopub.status.idle": "2023-12-16T14:35:00.387613Z",
     "shell.execute_reply": "2023-12-16T14:35:00.386615Z"
    },
    "papermill": {
     "duration": 0.012306,
     "end_time": "2023-12-16T14:35:00.389617",
     "exception": false,
     "start_time": "2023-12-16T14:35:00.377311",
     "status": "completed"
    },
    "tags": []
   },
   "outputs": [],
   "source": [
    "# inputs shape = [None, 256, 256, 1]\n",
    "def build_model(inputs_shape, num_classes = 65) -> tf.keras.Model: \n",
    "    inputs = Input(shape = inputs_shape)\n",
    "    \n",
    "    x = enc_bl(16)(inputs) #    [None, 100, 100, 16]\n",
    "    x = enc_bl(32)(x) # shape : [None, 50, 50, 32]\n",
    "    x = enc_bl(64)(x) # shape : [None, 25, 25, 64] \n",
    "    x = enc_bl(128, strides = 5)(x) # [None, 5, 5, 128]\n",
    "    \n",
    "    x = Flatten()(x)\n",
    "    outputs = Dense(units = num_classes, activation='softmax')(x)\n",
    "    \n",
    "    return tf.keras.Model(inputs, outputs)"
   ]
  },
  {
   "cell_type": "code",
   "execution_count": 7,
   "id": "1f6c0ef4",
   "metadata": {
    "execution": {
     "iopub.execute_input": "2023-12-16T14:35:00.398182Z",
     "iopub.status.busy": "2023-12-16T14:35:00.397560Z",
     "iopub.status.idle": "2023-12-16T14:35:09.965744Z",
     "shell.execute_reply": "2023-12-16T14:35:09.964788Z"
    },
    "papermill": {
     "duration": 9.575456,
     "end_time": "2023-12-16T14:35:09.968659",
     "exception": false,
     "start_time": "2023-12-16T14:35:00.393203",
     "status": "completed"
    },
    "tags": []
   },
   "outputs": [],
   "source": [
    "fileps, labels = load_filepaths_labels('/kaggle/input/arabic-letters-classification/Final_Arabic_Alpha_dataset/Final_Arabic_Alpha_dataset/train')\n",
    "\n",
    "dataset = build_dataset(fileps, labels, batch_size = 512, shuffle = False)\n",
    "\n",
    "model = build_model(IMAGE_SHAPE, 65)"
   ]
  },
  {
   "cell_type": "code",
   "execution_count": 8,
   "id": "aeb72a64",
   "metadata": {
    "execution": {
     "iopub.execute_input": "2023-12-16T14:35:09.981334Z",
     "iopub.status.busy": "2023-12-16T14:35:09.981032Z",
     "iopub.status.idle": "2023-12-16T14:50:32.604595Z",
     "shell.execute_reply": "2023-12-16T14:50:32.603664Z"
    },
    "papermill": {
     "duration": 922.632139,
     "end_time": "2023-12-16T14:50:32.606773",
     "exception": false,
     "start_time": "2023-12-16T14:35:09.974634",
     "status": "completed"
    },
    "tags": []
   },
   "outputs": [
    {
     "name": "stdout",
     "output_type": "stream",
     "text": [
      "Epoch 1/50\n",
      "84/84 [==============================] - 52s 457ms/step - loss: 0.9090 - lr: 1.0000e-06\n",
      "Epoch 2/50\n",
      "84/84 [==============================] - 18s 213ms/step - loss: 0.8907 - lr: 9.0000e-07\n",
      "Epoch 3/50\n",
      "84/84 [==============================] - 17s 202ms/step - loss: 0.8748 - lr: 8.1000e-07\n",
      "Epoch 4/50\n",
      "84/84 [==============================] - 17s 202ms/step - loss: 0.8608 - lr: 7.2900e-07\n",
      "Epoch 5/50\n",
      "84/84 [==============================] - 18s 219ms/step - loss: 0.8485 - lr: 6.5610e-07\n",
      "Epoch 6/50\n",
      "84/84 [==============================] - 19s 220ms/step - loss: 0.8375 - lr: 5.9049e-07\n",
      "Epoch 7/50\n",
      "84/84 [==============================] - 18s 214ms/step - loss: 0.8278 - lr: 5.3144e-07\n",
      "Epoch 8/50\n",
      "84/84 [==============================] - 17s 204ms/step - loss: 0.8192 - lr: 4.7830e-07\n",
      "Epoch 9/50\n",
      "84/84 [==============================] - 17s 206ms/step - loss: 0.8115 - lr: 4.3047e-07\n",
      "Epoch 10/50\n",
      "84/84 [==============================] - 17s 203ms/step - loss: 0.8047 - lr: 3.8742e-07\n",
      "Epoch 11/50\n",
      "84/84 [==============================] - 17s 200ms/step - loss: 0.7986 - lr: 3.4868e-07\n",
      "Epoch 12/50\n",
      "84/84 [==============================] - 18s 209ms/step - loss: 0.7932 - lr: 3.1381e-07\n",
      "Epoch 13/50\n",
      "84/84 [==============================] - 18s 211ms/step - loss: 0.7883 - lr: 2.8243e-07\n",
      "Epoch 14/50\n",
      "84/84 [==============================] - 17s 205ms/step - loss: 0.7839 - lr: 2.5419e-07\n",
      "Epoch 15/50\n",
      "84/84 [==============================] - 18s 212ms/step - loss: 0.7800 - lr: 2.2877e-07\n",
      "Epoch 16/50\n",
      "84/84 [==============================] - 17s 201ms/step - loss: 0.7765 - lr: 2.0589e-07\n",
      "Epoch 17/50\n",
      "84/84 [==============================] - 17s 201ms/step - loss: 0.7734 - lr: 1.8530e-07\n",
      "Epoch 18/50\n",
      "84/84 [==============================] - 17s 205ms/step - loss: 0.7705 - lr: 1.6677e-07\n",
      "Epoch 19/50\n",
      "84/84 [==============================] - 18s 209ms/step - loss: 0.7680 - lr: 1.5009e-07\n",
      "Epoch 20/50\n",
      "84/84 [==============================] - 18s 216ms/step - loss: 0.7657 - lr: 1.3509e-07\n",
      "Epoch 21/50\n",
      "84/84 [==============================] - 18s 213ms/step - loss: 0.7637 - lr: 1.2158e-07\n",
      "Epoch 22/50\n",
      "84/84 [==============================] - 19s 221ms/step - loss: 0.7619 - lr: 1.0942e-07\n",
      "Epoch 23/50\n",
      "84/84 [==============================] - 18s 212ms/step - loss: 0.7602 - lr: 9.8477e-08\n",
      "Epoch 24/50\n",
      "84/84 [==============================] - 18s 209ms/step - loss: 0.7587 - lr: 8.8629e-08\n",
      "Epoch 25/50\n",
      "84/84 [==============================] - 18s 216ms/step - loss: 0.7574 - lr: 7.9766e-08\n",
      "Epoch 26/50\n",
      "84/84 [==============================] - 18s 211ms/step - loss: 0.7562 - lr: 7.1790e-08\n",
      "Epoch 27/50\n",
      "84/84 [==============================] - 18s 214ms/step - loss: 0.7551 - lr: 6.4611e-08\n",
      "Epoch 28/50\n",
      "84/84 [==============================] - 18s 213ms/step - loss: 0.7541 - lr: 5.8150e-08\n",
      "Epoch 29/50\n",
      "84/84 [==============================] - 18s 219ms/step - loss: 0.7533 - lr: 5.2335e-08\n",
      "Epoch 30/50\n",
      "84/84 [==============================] - 18s 211ms/step - loss: 0.7525 - lr: 4.7101e-08\n",
      "Epoch 31/50\n",
      "84/84 [==============================] - 17s 207ms/step - loss: 0.7518 - lr: 4.2391e-08\n",
      "Epoch 32/50\n",
      "84/84 [==============================] - 18s 214ms/step - loss: 0.7511 - lr: 3.8152e-08\n",
      "Epoch 33/50\n",
      "84/84 [==============================] - 18s 208ms/step - loss: 0.7506 - lr: 3.4337e-08\n",
      "Epoch 34/50\n",
      "84/84 [==============================] - 18s 212ms/step - loss: 0.7500 - lr: 3.0903e-08\n",
      "Epoch 35/50\n",
      "84/84 [==============================] - 18s 212ms/step - loss: 0.7496 - lr: 2.7813e-08\n",
      "Epoch 36/50\n",
      "84/84 [==============================] - 18s 209ms/step - loss: 0.7492 - lr: 2.5032e-08\n",
      "Epoch 37/50\n",
      "84/84 [==============================] - 18s 208ms/step - loss: 0.7488 - lr: 2.2528e-08\n",
      "Epoch 38/50\n",
      "84/84 [==============================] - 17s 202ms/step - loss: 0.7484 - lr: 2.0276e-08\n",
      "Epoch 39/50\n",
      "84/84 [==============================] - 18s 212ms/step - loss: 0.7481 - lr: 1.8248e-08\n",
      "Epoch 40/50\n",
      "84/84 [==============================] - 17s 207ms/step - loss: 0.7479 - lr: 1.6423e-08\n",
      "Epoch 41/50\n",
      "84/84 [==============================] - 18s 212ms/step - loss: 0.7476 - lr: 1.4781e-08\n",
      "Epoch 42/50\n",
      "84/84 [==============================] - 18s 214ms/step - loss: 0.7474 - lr: 1.3303e-08\n",
      "Epoch 43/50\n",
      "84/84 [==============================] - 18s 210ms/step - loss: 0.7472 - lr: 1.1973e-08\n",
      "Epoch 44/50\n",
      "84/84 [==============================] - 18s 209ms/step - loss: 0.7470 - lr: 1.0775e-08\n",
      "Epoch 45/50\n",
      "84/84 [==============================] - 17s 208ms/step - loss: 0.7469 - lr: 9.6977e-09\n",
      "Epoch 46/50\n",
      "84/84 [==============================] - 18s 208ms/step - loss: 0.7467 - lr: 8.7280e-09\n",
      "Epoch 47/50\n",
      "84/84 [==============================] - 17s 204ms/step - loss: 0.7466 - lr: 7.8552e-09\n",
      "Epoch 48/50\n",
      "84/84 [==============================] - 17s 207ms/step - loss: 0.7465 - lr: 7.0697e-09\n",
      "Epoch 49/50\n",
      "84/84 [==============================] - 17s 203ms/step - loss: 0.7464 - lr: 6.3627e-09\n",
      "Epoch 50/50\n",
      "84/84 [==============================] - 17s 204ms/step - loss: 0.7463 - lr: 5.7264e-09\n"
     ]
    },
    {
     "data": {
      "text/plain": [
       "<keras.src.callbacks.History at 0x795125f553f0>"
      ]
     },
     "execution_count": 8,
     "metadata": {},
     "output_type": "execute_result"
    }
   ],
   "source": [
    "# Use AdamW optimizer\n",
    "optimizer = tf.keras.optimizers.AdamW(learning_rate=1e-6)\n",
    "\n",
    "# Use more metrics\n",
    "metrics = [Accuracy()]\n",
    "\n",
    "# Compile the model\n",
    "model.compile(optimizer=optimizer, loss='binary_crossentropy')\n",
    "\n",
    "# Define callbacks\n",
    "# early_stopping = EarlyStopping(monitor='val_loss', patience=10, restore_best_weights=True)\n",
    "lr_scheduler = LearningRateScheduler(lambda epoch: 1e-6 * 0.9**epoch)\n",
    "model_checkpoint = ModelCheckpoint('best_model.h5', monitor='val_accuracy', save_best_only=True)\n",
    "# Add any other callbacks you may need\n",
    "\n",
    "\n",
    "# Train the model\n",
    "model.fit(dataset, \n",
    "          epochs=50,\n",
    "#           steps_per_epoch = 5, \n",
    "#           validation_data=val_dataset, \n",
    "          callbacks=[lr_scheduler, model_checkpoint]\n",
    "         )"
   ]
  },
  {
   "cell_type": "code",
   "execution_count": 9,
   "id": "b5403f33",
   "metadata": {
    "execution": {
     "iopub.execute_input": "2023-12-16T14:50:33.290128Z",
     "iopub.status.busy": "2023-12-16T14:50:33.289731Z",
     "iopub.status.idle": "2023-12-16T14:50:35.628819Z",
     "shell.execute_reply": "2023-12-16T14:50:35.627812Z"
    },
    "papermill": {
     "duration": 2.681647,
     "end_time": "2023-12-16T14:50:35.631437",
     "exception": false,
     "start_time": "2023-12-16T14:50:32.949790",
     "status": "completed"
    },
    "tags": []
   },
   "outputs": [],
   "source": [
    "model.save('/kaggle/working/')"
   ]
  }
 ],
 "metadata": {
  "kaggle": {
   "accelerator": "nvidiaTeslaT4",
   "dataSources": [
    {
     "databundleVersionId": 7211464,
     "sourceId": 65471,
     "sourceType": "competition"
    }
   ],
   "dockerImageVersionId": 30626,
   "isGpuEnabled": true,
   "isInternetEnabled": true,
   "language": "python",
   "sourceType": "notebook"
  },
  "kernelspec": {
   "display_name": "Python 3",
   "language": "python",
   "name": "python3"
  },
  "language_info": {
   "codemirror_mode": {
    "name": "ipython",
    "version": 3
   },
   "file_extension": ".py",
   "mimetype": "text/x-python",
   "name": "python",
   "nbconvert_exporter": "python",
   "pygments_lexer": "ipython3",
   "version": "3.10.12"
  },
  "papermill": {
   "default_parameters": {},
   "duration": 956.209835,
   "end_time": "2023-12-16T14:50:39.145353",
   "environment_variables": {},
   "exception": null,
   "input_path": "__notebook__.ipynb",
   "output_path": "__notebook__.ipynb",
   "parameters": {},
   "start_time": "2023-12-16T14:34:42.935518",
   "version": "2.4.0"
  }
 },
 "nbformat": 4,
 "nbformat_minor": 5
}
